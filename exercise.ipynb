{
 "cells": [
  {
   "cell_type": "markdown",
   "id": "23cbc91d",
   "metadata": {},
   "source": [
    "## Single Input Graphs"
   ]
  },
  {
   "cell_type": "code",
   "execution_count": 1,
   "id": "01e28bfb",
   "metadata": {},
   "outputs": [],
   "source": [
    "from typing import Dict, TypedDict\n",
    "from langgraph.graph import StateGraph"
   ]
  },
  {
   "cell_type": "code",
   "execution_count": 2,
   "id": "ce7d9056",
   "metadata": {},
   "outputs": [],
   "source": [
    "# We now create an AgentState - shared data structure that keeps track of information as your application runs. \n",
    "\n",
    "class AgentState(TypedDict): # Our state schema\n",
    "    name : str \n",
    "\n",
    "\n",
    "def compliment_node(state: AgentState) -> AgentState:\n",
    "    \"\"\"Simple node that compliments the user\"\"\"\n",
    "\n",
    "    state['name'] = state[\"name\"] + \" you're doing an amazing job learning LangGraph!\"\n",
    "\n",
    "    return state "
   ]
  },
  {
   "cell_type": "code",
   "execution_count": 3,
   "id": "bf4eb6d9",
   "metadata": {},
   "outputs": [],
   "source": [
    "graph = StateGraph(AgentState)\n",
    "\n",
    "graph.add_node(\"compliment\", compliment_node)\n",
    "\n",
    "graph.set_entry_point(\"compliment\")\n",
    "graph.set_finish_point(\"compliment\")\n",
    "\n",
    "app = graph.compile()"
   ]
  },
  {
   "cell_type": "code",
   "execution_count": 4,
   "id": "f8caf2e3",
   "metadata": {},
   "outputs": [
    {
     "data": {
      "image/png": "[encoded data removed]",
      "text/plain": [
       "<IPython.core.display.Image object>"
      ]
     },
     "metadata": {},
     "output_type": "display_data"
    }
   ],
   "source": [
    "from IPython.display import Image, display\n",
    "display(Image(app.get_graph().draw_mermaid_png()))"
   ]
  },
  {
   "cell_type": "code",
   "execution_count": 6,
   "id": "6af1f3bf",
   "metadata": {},
   "outputs": [
    {
     "name": "stdout",
     "output_type": "stream",
     "text": [
      "{'name': \"Bob you're doing an amazing job learning LangGraph!\"}\n"
     ]
    },
    {
     "data": {
      "text/plain": [
       "\"Bob you're doing an amazing job learning LangGraph!\""
      ]
     },
     "execution_count": 6,
     "metadata": {},
     "output_type": "execute_result"
    }
   ],
   "source": [
    "result = app.invoke({\"name\": \"Bob\"})\n",
    "print(result)\n",
    "result[\"name\"]"
   ]
  },
  {
   "cell_type": "markdown",
   "id": "d85055ce",
   "metadata": {},
   "source": [
    "## Multiple Input Graphs"
   ]
  },
  {
   "cell_type": "code",
   "execution_count": 7,
   "id": "5aed6319",
   "metadata": {},
   "outputs": [],
   "source": [
    "from typing import TypedDict, List\n",
    "from langgraph.graph import StateGraph \n",
    "import math"
   ]
  },
  {
   "cell_type": "code",
   "execution_count": 8,
   "id": "bf857393",
   "metadata": {},
   "outputs": [],
   "source": [
    "class AgentState(TypedDict):\n",
    "    name: str \n",
    "    values: List[int]\n",
    "    operation: str\n",
    "    result: str "
   ]
  },
  {
   "cell_type": "code",
   "execution_count": 9,
   "id": "ae7f7cf0",
   "metadata": {},
   "outputs": [],
   "source": [
    "def process_values(state: AgentState) -> AgentState:\n",
    "    \"\"\"This function handles multiple different inputs\"\"\"\n",
    "    if state[\"operation\"] == \"+\":\n",
    "        state[\"result\"] = f\"Hi {state['name']}, your answer is: {sum(state['values'])}\"\n",
    "    elif state[\"operation\"] == \"*\":\n",
    "        state[\"result\"] = f\"Hi {state['name']}, your answer is: {math.prod(state['values'])}\"\n",
    "    else:\n",
    "        state[\"result\"] = \"Invalid!\"\n",
    "\n",
    "    return state"
   ]
  },
  {
   "cell_type": "code",
   "execution_count": 10,
   "id": "65f8b925",
   "metadata": {},
   "outputs": [],
   "source": [
    "graph = StateGraph(AgentState)\n",
    "\n",
    "graph.add_node(\"processor\", process_values)\n",
    "graph.set_entry_point(\"processor\") \n",
    "graph.set_finish_point(\"processor\") \n",
    "\n",
    "app = graph.compile() "
   ]
  },
  {
   "cell_type": "code",
   "execution_count": 11,
   "id": "0300e1ae",
   "metadata": {},
   "outputs": [
    {
     "data": {
      "image/png": "[encoded data removed]",
      "text/plain": [
       "<IPython.core.display.Image object>"
      ]
     },
     "metadata": {},
     "output_type": "display_data"
    }
   ],
   "source": [
    "from IPython.display import Image, display\n",
    "display(Image(app.get_graph().draw_mermaid_png()))"
   ]
  },
  {
   "cell_type": "code",
   "execution_count": 12,
   "id": "bb4ed7a9",
   "metadata": {},
   "outputs": [
    {
     "name": "stdout",
     "output_type": "stream",
     "text": [
      "{'name': 'Jack Sparrow', 'values': [1, 2, 3, 4], 'operation': '*', 'result': 'Hi Jack Sparrow, your answer is: 24'}\n"
     ]
    },
    {
     "data": {
      "text/plain": [
       "'Hi Jack Sparrow, your answer is: 24'"
      ]
     },
     "execution_count": 12,
     "metadata": {},
     "output_type": "execute_result"
    }
   ],
   "source": [
    "answers = app.invoke({\"name\": \"Jack Sparrow\",\"values\": [1,2,3,4] , \"operation\": \"*\"})\n",
    "print(answers)\n",
    "answers[\"result\"]"
   ]
  },
  {
   "cell_type": "markdown",
   "id": "c02f2547",
   "metadata": {},
   "source": [
    "## Sequential Graph"
   ]
  },
  {
   "cell_type": "code",
   "execution_count": 13,
   "id": "8a21b904",
   "metadata": {},
   "outputs": [],
   "source": [
    "from typing import TypedDict \n",
    "from langgraph.graph import StateGraph"
   ]
  },
  {
   "cell_type": "code",
   "execution_count": 14,
   "id": "e8d4c782",
   "metadata": {},
   "outputs": [],
   "source": [
    "class AgentState(TypedDict):\n",
    "    name: str\n",
    "    age: str\n",
    "    skills : list\n",
    "    final_result: str"
   ]
  },
  {
   "cell_type": "code",
   "execution_count": 15,
   "id": "06c0bb9d",
   "metadata": {},
   "outputs": [],
   "source": [
    "def first_node(state:AgentState) -> AgentState:\n",
    "    \"\"\"This node will greet the user\"\"\"\n",
    "\n",
    "    state[\"final_result\"] = f\"{state[\"name\"]} welcome to the system!\"\n",
    "    return state\n",
    "\n",
    "def second_node(state:AgentState) -> AgentState:\n",
    "    \"\"\"This node will describe the user's age\"\"\"\n",
    "\n",
    "    state[\"final_result\"] = state[\"final_result\"] + f\" You are {state[\"age\"]} years old!\"\n",
    "    return state\n",
    "\n",
    "\n",
    "def third_node(state:AgentState) -> AgentState:\n",
    "    \"\"\"This node will list the user's skills in a formatted string\"\"\"\n",
    "    state[\"final_result\"] = state[\"final_result\"] + f\" You have skills in: {\", \".join(state[\"skills\"])}\"\n",
    "\n",
    "    return state"
   ]
  },
  {
   "cell_type": "code",
   "execution_count": 16,
   "id": "340d5469",
   "metadata": {},
   "outputs": [],
   "source": [
    "graph = StateGraph(AgentState)\n",
    "\n",
    "graph.add_node(\"personalize\", first_node)\n",
    "graph.add_node(\"age_description\", second_node)\n",
    "graph.add_node(\"skills_description\", third_node)\n",
    "\n",
    "graph.set_entry_point(\"personalize\")\n",
    "graph.add_edge(\"personalize\", \"age_description\")\n",
    "graph.add_edge(\"age_description\", \"skills_description\")\n",
    "graph.set_finish_point(\"skills_description\")\n",
    "app = graph.compile()"
   ]
  },
  {
   "cell_type": "code",
   "execution_count": 17,
   "id": "c443b882",
   "metadata": {},
   "outputs": [
    {
     "data": {
      "image/png": "[encoded data removed]",
      "text/plain": [
       "<IPython.core.display.Image object>"
      ]
     },
     "metadata": {},
     "output_type": "display_data"
    }
   ],
   "source": [
    "from IPython.display import Image, display\n",
    "display(Image(app.get_graph().draw_mermaid_png()))"
   ]
  },
  {
   "cell_type": "code",
   "execution_count": 18,
   "id": "5f1945a9",
   "metadata": {},
   "outputs": [
    {
     "name": "stdout",
     "output_type": "stream",
     "text": [
      "{'name': 'Linda', 'age': 31, 'skills': ['Python', 'Machine Learning', 'LangGraph'], 'final_result': 'Linda welcome to the system! You are 31 years old! You have skills in: Python, Machine Learning, LangGraph'}\n"
     ]
    },
    {
     "data": {
      "text/plain": [
       "'Linda welcome to the system! You are 31 years old! You have skills in: Python, Machine Learning, LangGraph'"
      ]
     },
     "execution_count": 18,
     "metadata": {},
     "output_type": "execute_result"
    }
   ],
   "source": [
    "result = app.invoke({\"name\": \"Linda\", \"age\": 31, \"skills\":[\"Python\", \"Machine Learning\", \"LangGraph\"]})\n",
    "print(result)\n",
    "result[\"final_result\"]"
   ]
  }
 ],
 "metadata": {
  "kernelspec": {
   "display_name": ".venv",
   "language": "python",
   "name": "python3"
  },
  "language_info": {
   "codemirror_mode": {
    "name": "ipython",
    "version": 3
   },
   "file_extension": ".py",
   "mimetype": "text/x-python",
   "name": "python",
   "nbconvert_exporter": "python",
   "pygments_lexer": "ipython3",
   "version": "3.12.10"
  }
 },
 "nbformat": 4,
 "nbformat_minor": 5
}
